{
 "cells": [
  {
   "cell_type": "code",
   "execution_count": 1,
   "id": "85bee390-bd15-4d3c-bd34-e33740f8ad56",
   "metadata": {},
   "outputs": [],
   "source": [
    "import pandas as pd\n",
    "\n",
    "def sample_parquet(input_file, output_file, sample_frac=0.1, random_state=42):\n",
    "    \"\"\"\n",
    "    Читает файл Parquet, выбирает случайную подвыборку и сохраняет её.\n",
    "    \n",
    "    :param input_file: путь к исходному файлу Parquet\n",
    "    :param output_file: путь для сохранения сэмпла\n",
    "    :param sample_frac: доля строк для выборки (по умолчанию 0.1, то есть 10%)\n",
    "    :param random_state: значение random_state для воспроизводимости выборки\n",
    "    \"\"\"\n",
    "    # Чтение исходного файла\n",
    "    df = pd.read_parquet(input_file)\n",
    "    \n",
    "    # Выборка случайных строк\n",
    "    sample_df = df.sample(frac=sample_frac, random_state=random_state)\n",
    "    \n",
    "    # Сохранение сэмпла в новый файл Parquet\n",
    "    sample_df.to_parquet(output_file)\n",
    "    print(f\"Сэмпл сохранён в {output_file}. Размер сэмпла: {len(sample_df)} строк.\")"
   ]
  },
  {
   "cell_type": "code",
   "execution_count": 2,
   "id": "6b6f45f6-e9fb-4116-b16a-68f69dc7485b",
   "metadata": {},
   "outputs": [
    {
     "name": "stdout",
     "output_type": "stream",
     "text": [
      "Сэмпл сохранён в tracks_sample.parquet. Размер сэмпла: 100000 строк.\n",
      "Сэмпл сохранён в catalog_names_sample.parquet. Размер сэмпла: 181247 строк.\n",
      "Сэмпл сохранён в interactions_sample.parquet. Размер сэмпла: 22262990 строк.\n"
     ]
    }
   ],
   "source": [
    "# Пример использования для каждого файла:\n",
    "sample_parquet('tracks.parquet', 'tracks_sample.parquet', sample_frac=0.1)\n",
    "sample_parquet('catalog_names.parquet', 'catalog_names_sample.parquet', sample_frac=0.1)\n",
    "sample_parquet('interactions.parquet', 'interactions_sample.parquet', sample_frac=0.1)"
   ]
  },
  {
   "cell_type": "code",
   "execution_count": null,
   "id": "159bb7c2-45c3-4661-b8f9-8cdd724402de",
   "metadata": {},
   "outputs": [],
   "source": []
  },
  {
   "cell_type": "code",
   "execution_count": null,
   "id": "03c03281-cb67-4961-9ea2-66cd30f39299",
   "metadata": {},
   "outputs": [],
   "source": [
    "# Чтобы не выбивало kernel на этапе приведения типов, напишем функцию\n",
    "def convert_column_to_str_batches(df, col_name, batch_size=100000):\n",
    "    \"\"\"\n",
    "    Преобразует столбец col_name в DataFrame df к строковому типу батчами.\n",
    "    Сначала столбец приводится к типу object, чтобы избежать предупреждений.\n",
    "    \n",
    "    :param df: DataFrame, содержащий столбец\n",
    "    :param col_name: имя столбца, который нужно привести к str\n",
    "    :param batch_size: размер батча для обработки (по умолчанию 100000 строк)\n",
    "    :return: DataFrame с преобразованным столбцом\n",
    "    \"\"\"\n",
    "    # Сначала меняем тип столбца на object для избежания предупреждений\n",
    "    df[col_name] = df[col_name].astype(object)\n",
    "    \n",
    "    total_rows = len(df)\n",
    "    col_index = df.columns.get_loc(col_name)\n",
    "    \n",
    "    for start in range(0, total_rows, batch_size):\n",
    "        end = min(start + batch_size, total_rows)\n",
    "        df.iloc[start:end, col_index] = df.iloc[start:end, col_index].astype(str)\n",
    "        print(f\"Обработано строк с {start} до {end}\")\n",
    "        \n",
    "    return df"
   ]
  },
  {
   "cell_type": "code",
   "execution_count": null,
   "id": "6ae82704-2ed5-49c0-a4bc-9ade338899fc",
   "metadata": {},
   "outputs": [],
   "source": []
  },
  {
   "cell_type": "code",
   "execution_count": null,
   "id": "baef085a-cbb9-4262-bebf-5d636a5cb740",
   "metadata": {},
   "outputs": [],
   "source": []
  },
  {
   "cell_type": "code",
   "execution_count": null,
   "id": "95731fc0-4ccf-407d-beb4-fc6371eb09d2",
   "metadata": {},
   "outputs": [],
   "source": []
  },
  {
   "cell_type": "code",
   "execution_count": null,
   "id": "b39a40ca-0fb8-4a1c-ae34-93b95a2025ac",
   "metadata": {},
   "outputs": [],
   "source": []
  },
  {
   "cell_type": "code",
   "execution_count": null,
   "id": "97c4236c-6c89-48c9-a939-68d0d19cc321",
   "metadata": {},
   "outputs": [],
   "source": []
  }
 ],
 "metadata": {
  "kernelspec": {
   "display_name": "Python (mle-mlfow)",
   "language": "python",
   "name": "mle-mlfow"
  },
  "language_info": {
   "codemirror_mode": {
    "name": "ipython",
    "version": 3
   },
   "file_extension": ".py",
   "mimetype": "text/x-python",
   "name": "python",
   "nbconvert_exporter": "python",
   "pygments_lexer": "ipython3",
   "version": "3.10.12"
  }
 },
 "nbformat": 4,
 "nbformat_minor": 5
}
